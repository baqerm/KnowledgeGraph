{
 "cells": [
  {
   "cell_type": "code",
   "execution_count": 1,
   "metadata": {},
   "outputs": [
    {
     "name": "stdout",
     "output_type": "stream",
     "text": [
      "{\n",
      "  \"host\": \"database-neptune-kg.cluster-cnsbzyhh8wgy.us-east-2.neptune.amazonaws.com\",\n",
      "  \"port\": 8182,\n",
      "  \"auth_mode\": \"DEFAULT\",\n",
      "  \"iam_credentials_provider_type\": \"ROLE\",\n",
      "  \"load_from_s3_arn\": \"\",\n",
      "  \"ssl\": true,\n",
      "  \"aws_region\": \"us-east-2\",\n",
      "  \"sparql\": {\n",
      "    \"endpoint_prefix\": \"\"\n",
      "  }\n",
      "}\n"
     ]
    },
    {
     "data": {
      "text/plain": [
       "<graph_notebook.configuration.generate_config.Configuration at 0x7ffbb8d26b38>"
      ]
     },
     "execution_count": 1,
     "metadata": {},
     "output_type": "execute_result"
    }
   ],
   "source": [
    "%graph_notebook_config"
   ]
  },
  {
   "cell_type": "code",
   "execution_count": 1,
   "metadata": {},
   "outputs": [
    {
     "data": {
      "application/vnd.jupyter.widget-view+json": {
       "model_id": "fbdf9929ef7b4044a0bf84b66c11b135",
       "version_major": 2,
       "version_minor": 0
      },
      "text/plain": [
       "Tab()"
      ]
     },
     "metadata": {},
     "output_type": "display_data"
    }
   ],
   "source": [
    "%%sparql\n",
    "\n",
    "insert data\n",
    "{\n",
    "graph <http://http://qlRDF.com/gamMetadata>\n",
    "{\n",
    "\n",
    "<http://qlRDF.com/LoanInfo/loannumber>\n",
    "        a                               <http://qlRDF.com/LoanInfo> , <http://qlRDF.com/Identifier> ;\n",
    "        <http://www.w3.org/2000/01/rdf-schema#label>\n",
    "                \"rocketaccountid\" , \"gcid\" ;\n",
    "        <http://qlRDF.com/AssetsBal>    \"assets_balance\"^^<http://www.w3.org/2001/XMLSchema#double> ;\n",
    "        <http://qlRDF.com/AssetsCashVal>\n",
    "                \"assets_cash_value\"^^<http://www.w3.org/2001/XMLSchema#double> ;\n",
    "        <http://qlRDF.com/BiweeklyPaymentFlag>\n",
    "                \"biweekly_payment_flag\" ;\n",
    "        <http://qlRDF.com/EsHomaVal>    \"estimated_home_value\"^^<http://www.w3.org/2001/XMLSchema#double> ;\n",
    "        <http://qlRDF.com/EscrowBal>    \"current_escrow_balance\"^^<http://www.w3.org/2001/XMLSchema#decimal> , \"currentescrowbalance\"^^<http://www.w3.org/2001/XMLSchema#decimal> ;\n",
    "        <http://qlRDF.com/Escrowed>     \"escrowed\" ;\n",
    "        <http://qlRDF.com/HOIProvider>  \"hoi_provider\" ;\n",
    "        <http://qlRDF.com/IsPrimaryBorrower>\n",
    "                \"isprimaryborrower\" ;\n",
    "        <http://qlRDF.com/LoanPurpose>  \"loan_purpose\" ;\n",
    "        <http://qlRDF.com/MonthlyPayment>\n",
    "                \"current_monthly_mortgage_payment\"^^<http://www.w3.org/2001/XMLSchema#decimal> ;\n",
    "        <http://qlRDF.com/MortgageBal>  \"current_mortgage_balance\"^^<http://www.w3.org/2001/XMLSchema#decimal> ;\n",
    "        <http://qlRDF.com/OrigCloseDt>  \"original_close_date\"^^<http://www.w3.org/2001/XMLSchema#date> ;\n",
    "        <http://qlRDF.com/TotalEscrowBal>\n",
    "                \"currenttotalescrowbalance\"^^<http://www.w3.org/2001/XMLSchema#decimal> , \"current_total_escrow_balance\"^^<http://www.w3.org/2001/XMLSchema#decimal> .\n",
    "\n",
    "<http://qlRDF.com/Source/loannumber>\n",
    "        a                               <http://qlRDF.com/Amp> , <http://qlRDF.com/Personhub> , <http://qlRDF.com/Servicing> ;\n",
    "        <http://qlRDF.com/Identifies>   <http://qlRDF.com/Identifier/loannumber> , <http://qlRDF.com/LoanInfo/loannumber> ;\n",
    "        <http://qlRDF.com/hasAddressInfo>\n",
    "                <http://qlRDF.com/Address/loannumber> ;\n",
    "        <http://qlRDF.com/hasClientInfo>\n",
    "                <http://qlRDF.com/ClientInfo/loannumber> ;\n",
    "        <http://qlRDF.com/hasEmploymentInfo>\n",
    "                <http://qlRDF.com/Employment/loannumber> ;\n",
    "        <http://qlRDF.com/hasLoanInfo>  <http://qlRDF.com/LoanInfo/loannumber> ;\n",
    "        <http://qlRDF.com/hasPropertyInfo>\n",
    "                <http://qlRDF.com/PropertyInfo/loannumber> ;\n",
    "        <http://qlRDF.com/hasViableFlags>\n",
    "                <http://qlRDF.com/ViableFlag/loannumber> .\n",
    "\n",
    "<http://qlRDF.com/Identifier/loannumber>\n",
    "        a       <http://qlRDF.com/Identifier> ;\n",
    "        <http://www.w3.org/2000/01/rdf-schema#label>\n",
    "                \"peid\" , \"reltio_uri\" , \"rocketaccountid\" , \"gcid\" , \"personid\"^^<http://www.w3.org/2001/XMLSchema#integer> .\n",
    "\n",
    "<http://qlRDF.com/ViableFlag/loannumber>\n",
    "        a       <http://qlRDF.com/ViableFlag> ;\n",
    "        <http://qlRDF.com/CashoutViable>\n",
    "                \"cashout_viable\" ;\n",
    "        <http://qlRDF.com/LowerPymentViable>\n",
    "                \"lower_payment_viable\" ;\n",
    "        <http://qlRDF.com/ShortentermViable>\n",
    "                \"shortenterm_viable\" .\n",
    "\n",
    "<http://qlRDF.com/Address/loannumber>\n",
    "        a                               <http://qlRDF.com/Address> ;\n",
    "        <http://qlRDF.com/City>         \"city\" ;\n",
    "        <http://qlRDF.com/PropAddress>  \"property_address\" ;\n",
    "        <http://qlRDF.com/PropAddressLN2>\n",
    "                \"address_line_3\" ;\n",
    "        <http://qlRDF.com/State>        \"state\" ;\n",
    "        <http://qlRDF.com/Zip>          \"zip_code\" .\n",
    "\n",
    "<http://qlRDF.com/Employment/loannumber>\n",
    "        a                               <http://qlRDF.com/Employment> ;\n",
    "        <http://qlRDF.com/CurJob>       \"current_job\" ;\n",
    "        <http://qlRDF.com/EmployerName>\n",
    "                \"employer_name\" ;\n",
    "        <http://qlRDF.com/EmployerPhoneNum>\n",
    "                \"employer_phone_number\" ;\n",
    "        <http://qlRDF.com/IsCurJob>     \"is_currentjob\" ;\n",
    "        <http://qlRDF.com/JobTitle>     \"job_title\" ;\n",
    "        <http://qlRDF.com/JobType>      \"job_type\" ;\n",
    "        <http://qlRDF.com/MonthsOnJob>  \"monthsonjob\"^^<http://www.w3.org/2001/XMLSchema#double> ;\n",
    "        <http://qlRDF.com/StartDt>      \"employer_start_date\" , \"employment_start_date\"^^<http://www.w3.org/2001/XMLSchema#dateTime> .\n",
    "\n",
    "<http://qlRDF.com/ClientInfo/loannumber>\n",
    "        a                              <http://qlRDF.com/ClientInfo> ;\n",
    "        <http://qlRDF.com/BirthDate>   \"date_of_birth\"^^<http://www.w3.org/2001/XMLSchema#dateTime> ;\n",
    "        <http://qlRDF.com/HomePhoneNum>\n",
    "                \"home_phone_number\" ;\n",
    "        <http://qlRDF.com/MaritalStatus>\n",
    "                \"married\" ;\n",
    "        <http://qlRDF.com/Salary>      \"yearly_income\"^^<http://www.w3.org/2001/XMLSchema#double> ;\n",
    "        <http://qlRDF.com/VeternStat>  \"is_veteran\" , \"veteran\" ;\n",
    "        <http://qlRDF.com/WorkPhoneNum>\n",
    "                \"work_phone_number\" .\n",
    "\n",
    "<http://qlRDF.com/PropertyInfo/loannumber>\n",
    "        a                             <http://qlRDF.com/PropertyInfo> ;\n",
    "        <http://qlRDF.com/AnnualOwnerInsur>\n",
    "                \"annual_homeowners_insurance\"^^<http://www.w3.org/2001/XMLSchema#decimal> ;\n",
    "        <http://qlRDF.com/AnnualPropTax>\n",
    "                \"annual_property_tax\"^^<http://www.w3.org/2001/XMLSchema#decimal> ;\n",
    "        <http://qlRDF.com/Occupancy>  \"occupancy\" ;\n",
    "        <http://qlRDF.com/OrigOccupancyDt>\n",
    "                \"original_occupancy_date\"^^<http://www.w3.org/2001/XMLSchema#dateTime> ;\n",
    "        <http://qlRDF.com/OrigPurPrice>\n",
    "                \"original_purchase_price\"^^<http://www.w3.org/2001/XMLSchema#decimal> ;\n",
    "        <http://qlRDF.com/PropType>   \"property_type\" ;\n",
    "        <http://qlRDF.com/YearBuilt>  \"year_home_built\"^^<http://www.w3.org/2001/XMLSchema#integer> .\n",
    "\n",
    "}\n",
    "\n",
    "}    \n",
    "    \n"
   ]
  },
  {
   "cell_type": "code",
   "execution_count": 2,
   "metadata": {},
   "outputs": [
    {
     "data": {
      "application/vnd.jupyter.widget-view+json": {
       "model_id": "c729ccf7b2164d0d9124d2af88bdd547",
       "version_major": 2,
       "version_minor": 0
      },
      "text/plain": [
       "Tab()"
      ]
     },
     "metadata": {},
     "output_type": "display_data"
    }
   ],
   "source": [
    "%%sparql\n",
    "\n",
    "SELECT ?s ?p ?o from named <http://http://qlRDF.com/gamMetadata>  where { graph ?src {?s ?p ?o}}"
   ]
  },
  {
   "cell_type": "code",
   "execution_count": null,
   "metadata": {},
   "outputs": [],
   "source": []
  }
 ],
 "metadata": {
  "kernelspec": {
   "display_name": "Python 3",
   "language": "python",
   "name": "python3"
  },
  "language_info": {
   "codemirror_mode": {
    "name": "ipython",
    "version": 3
   },
   "file_extension": ".py",
   "mimetype": "text/x-python",
   "name": "python",
   "nbconvert_exporter": "python",
   "pygments_lexer": "ipython3",
   "version": "3.6.11"
  }
 },
 "nbformat": 4,
 "nbformat_minor": 4
}
